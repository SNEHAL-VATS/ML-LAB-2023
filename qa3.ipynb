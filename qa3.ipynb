{
 "cells": [
  {
   "cell_type": "markdown",
   "id": "ecece593",
   "metadata": {},
   "source": [
    "##Un-Supervised Learning Algorithms - K-Means Clustering: \n",
    "Build a K-Means Model for the given dataset. Build a K-Means Model for the given Dataset. Use the Elbow or Silhouette method to find the best possible K-value. Use the cost function as WCSS(Within Cluster Sum of Squares). Curate a new data point and find which cluster it goes to. Write the inference. "
   ]
  },
  {
   "cell_type": "code",
   "execution_count": 1,
   "id": "3a1df832",
   "metadata": {},
   "outputs": [],
   "source": [
    "import numpy as np"
   ]
  },
  {
   "cell_type": "code",
   "execution_count": 2,
   "id": "57b32797",
   "metadata": {},
   "outputs": [],
   "source": [
    "from scipy.spatial.distance import cdist\n"
   ]
  },
  {
   "cell_type": "code",
   "execution_count": 20,
   "id": "28011f2a",
   "metadata": {},
   "outputs": [],
   "source": [
    "class KMeans:\n",
    "    def __init__(self,k,max_iterations=100):\n",
    "        self.k=k;\n",
    "        self.max_iterations=max_iterations\n",
    "    def fit(self,x):\n",
    "        self.centroids=x[np.random.choice(x.shape[0],self.k, replace=False),:]\n",
    "        for i in range(self.max_iterations):\n",
    "            #Assigning the clusters to points\n",
    "            dist=cdist(x,self.centroids)\n",
    "            clustr_lab=np.argmin(dist,axis=1)\n",
    "            \n",
    "            #Updating the centroids\n",
    "            for j in range(self.k):\n",
    "                mask=clustr_lab==j\n",
    "                if(np.sum(mask)>0):\n",
    "                    self.centroids[j,:]=np.mean(x[mask,:],axis=0)\n",
    "    def predict(self,x):\n",
    "        dist=cdist(x,self.centroids)\n",
    "        clustr_lab=np.argmin(dist,axis=1)\n",
    "        return clustr_lab\n",
    "            "
   ]
  },
  {
   "cell_type": "code",
   "execution_count": 21,
   "id": "d6d0e249",
   "metadata": {},
   "outputs": [],
   "source": [
    "from sklearn.datasets import make_blobs\n",
    "x,y=make_blobs(n_samples=100,centers=3,n_features=2,random_state=42)\n",
    "kmeans=KMeans(k=3)\n",
    "kmeans.fit(x)"
   ]
  },
  {
   "cell_type": "code",
   "execution_count": 22,
   "id": "c658b33b",
   "metadata": {},
   "outputs": [],
   "source": [
    "labels=kmeans.predict(x)"
   ]
  },
  {
   "cell_type": "code",
   "execution_count": 23,
   "id": "a22a4831",
   "metadata": {},
   "outputs": [
    {
     "data": {
      "text/plain": [
       "array([2, 0, 1, 0, 2, 0, 1, 0, 0, 1, 1, 2, 2, 1, 1, 2, 2, 1, 2, 2, 1, 2,\n",
       "       2, 1, 1, 1, 0, 2, 2, 2, 2, 0, 0, 2, 1, 1, 1, 1, 0, 0, 2, 1, 0, 1,\n",
       "       1, 0, 2, 2, 2, 0, 0, 0, 1, 2, 2, 2, 1, 1, 0, 1, 2, 0, 2, 0, 2, 2,\n",
       "       0, 2, 0, 0, 0, 2, 2, 1, 0, 2, 0, 2, 0, 0, 1, 0, 1, 2, 1, 1, 1, 0,\n",
       "       1, 0, 0, 0, 1, 0, 1, 1, 1, 0, 2, 1], dtype=int64)"
      ]
     },
     "execution_count": 23,
     "metadata": {},
     "output_type": "execute_result"
    }
   ],
   "source": [
    "labels"
   ]
  },
  {
   "cell_type": "code",
   "execution_count": 24,
   "id": "d0e54285",
   "metadata": {},
   "outputs": [],
   "source": [
    "import matplotlib.pyplot as plt\n",
    "from sklearn.cluster import KMeans\n",
    "\n",
    "def elbow(x):\n",
    "    wcss=[]\n",
    "    for i in range(1,11):\n",
    "        kmeans=KMeans(i)\n",
    "        kmeans.fit(x)\n",
    "        wcss.append(kmeans.inertia_)\n",
    "    plt.plot(range(1, 11), wcss)\n",
    "    plt.title('Elbow Method')\n",
    "    plt.xlabel('Number of Clusters')\n",
    "    plt.ylabel('WCSS')\n",
    "    plt.show()"
   ]
  },
  {
   "cell_type": "code",
   "execution_count": 25,
   "id": "887a31a1",
   "metadata": {},
   "outputs": [
    {
     "name": "stderr",
     "output_type": "stream",
     "text": [
      "C:\\ANACONDA\\lib\\site-packages\\sklearn\\cluster\\_kmeans.py:1036: UserWarning: KMeans is known to have a memory leak on Windows with MKL, when there are less chunks than available threads. You can avoid it by setting the environment variable OMP_NUM_THREADS=1.\n",
      "  warnings.warn(\n"
     ]
    },
    {
     "data": {
      "image/png": "[encoded data removed]",
      "text/plain": [
       "<Figure size 432x288 with 1 Axes>"
      ]
     },
     "metadata": {
      "needs_background": "light"
     },
     "output_type": "display_data"
    }
   ],
   "source": [
    "elbow(x)"
   ]
  },
  {
   "cell_type": "code",
   "execution_count": 26,
   "id": "78358a63",
   "metadata": {},
   "outputs": [],
   "source": [
    "from sklearn import metrics\n",
    "def silhouette(X):\n",
    "    silhouette_scores = []\n",
    "    for i in range(2, 11):\n",
    "        kmeans = KMeans(n_clusters=i)\n",
    "        kmeans.fit(X)\n",
    "        labels = kmeans.predict(X)\n",
    "        silhouette_scores.append(metrics.silhouette_score(X, labels, metric='euclidean'))\n",
    "    plt.plot(range(2, 11), silhouette_scores)\n",
    "    plt.title('Silhouette Method')\n",
    "    plt.xlabel('Number of Clusters')\n",
    "    plt.ylabel('Silhouette Score')\n",
    "    plt.show()"
   ]
  },
  {
   "cell_type": "code",
   "execution_count": 27,
   "id": "4005f645",
   "metadata": {},
   "outputs": [
    {
     "data": {
      "image/png": "[encoded data removed]",
      "text/plain": [
       "<Figure size 432x288 with 1 Axes>"
      ]
     },
     "metadata": {
      "needs_background": "light"
     },
     "output_type": "display_data"
    }
   ],
   "source": [
    "silhouette(x)"
   ]
  },
  {
   "cell_type": "code",
   "execution_count": null,
   "id": "14d36572",
   "metadata": {},
   "outputs": [],
   "source": []
  }
 ],
 "metadata": {
  "kernelspec": {
   "display_name": "Python 3 (ipykernel)",
   "language": "python",
   "name": "python3"
  },
  "language_info": {
   "codemirror_mode": {
    "name": "ipython",
    "version": 3
   },
   "file_extension": ".py",
   "mimetype": "text/x-python",
   "name": "python",
   "nbconvert_exporter": "python",
   "pygments_lexer": "ipython3",
   "version": "3.9.12"
  }
 },
 "nbformat": 4,
 "nbformat_minor": 5
}
