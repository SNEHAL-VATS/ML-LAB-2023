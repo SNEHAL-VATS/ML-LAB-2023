{
 "cells": [
  {
   "cell_type": "markdown",
   "id": "3d90741a",
   "metadata": {},
   "source": [
    "#Supervised Learning Algorithms - Decision Trees: \n",
    "Implement decision trees considering a data set of your choice. Create an ID3 Decision Tree. Implement the ID3 algorithm on your own. Use a pre-defined sklearn library for both Entropy-Information Gain as well as Gini Index calculation. Compare the results you got between your hand-coded algorithm and sklearn. Draw the decision tree. Write the interference on the choice of the root node, the internal nodes and the leaf nodes. Also calculate the Decision Tree model measurement metrics such as confusion matrix, accuracy, precision, recall, sensitivity, specificity, MCC etc.Write the inference. "
   ]
  },
  {
   "cell_type": "code",
   "execution_count": null,
   "id": "67bdd8b1",
   "metadata": {},
   "outputs": [],
   "source": [
    "import pandas as pd\n",
    "import numpy as np"
   ]
  },
  {
   "cell_type": "code",
   "execution_count": 2,
   "id": "0f1605e8",
   "metadata": {},
   "outputs": [],
   "source": [
    "from sklearn.datasets import load_iris\n",
    "data = load_iris()\n",
    "x = data.data\n",
    "y = data.target"
   ]
  },
  {
   "cell_type": "code",
   "execution_count": 3,
   "id": "12d3f6fe",
   "metadata": {},
   "outputs": [
    {
     "data": {
      "text/plain": [
       "array(['setosa', 'versicolor', 'virginica'], dtype='<U10')"
      ]
     },
     "execution_count": 3,
     "metadata": {},
     "output_type": "execute_result"
    }
   ],
   "source": [
    "data.target_names"
   ]
  },
  {
   "cell_type": "code",
   "execution_count": 4,
   "id": "3d206d16",
   "metadata": {},
   "outputs": [],
   "source": [
    "from sklearn import tree\n",
    "tree_cart = tree.DecisionTreeClassifier(criterion='gini',max_depth=4)\n",
    "tree_id3 = tree.DecisionTreeClassifier(criterion='entropy',max_depth=4)"
   ]
  },
  {
   "cell_type": "code",
   "execution_count": 5,
   "id": "1e8cb910",
   "metadata": {},
   "outputs": [],
   "source": [
    "from sklearn.model_selection import train_test_split\n",
    "x_train,x_test,y_train,y_test = train_test_split(x,y,test_size=0.2,random_state=1)"
   ]
  },
  {
   "cell_type": "code",
   "execution_count": 6,
   "id": "7a854a89",
   "metadata": {},
   "outputs": [
    {
     "data": {
      "text/plain": [
       "DecisionTreeClassifier(criterion='entropy', max_depth=4)"
      ]
     },
     "execution_count": 6,
     "metadata": {},
     "output_type": "execute_result"
    }
   ],
   "source": [
    "tree_cart.fit(x_train,y_train)\n",
    "tree_id3.fit(x_train,y_train)"
   ]
  },
  {
   "cell_type": "code",
   "execution_count": 7,
   "id": "6a098d7f",
   "metadata": {},
   "outputs": [],
   "source": [
    "y_cart = tree_cart.predict(x_test)\n",
    "y_id3 = tree_id3.predict(x_test)"
   ]
  },
  {
   "cell_type": "code",
   "execution_count": 8,
   "id": "5a73c6db",
   "metadata": {},
   "outputs": [
    {
     "name": "stdout",
     "output_type": "stream",
     "text": [
      "0.9666666666666667\n",
      "0.9666666666666667\n",
      "0.9666666666666667\n",
      "0.9666666666666667\n",
      "0.950050836422698\n"
     ]
    }
   ],
   "source": [
    "from sklearn import metrics\n",
    "\n",
    "print(metrics.accuracy_score(y_test,y_cart))\n",
    "print(metrics.precision_score(y_test,y_cart,average='micro'))\n",
    "print(metrics.recall_score(y_test,y_cart,average='micro'))\n",
    "print(metrics.f1_score(y_test,y_cart,average='micro'))\n",
    "print(metrics.matthews_corrcoef(y_test,y_cart))"
   ]
  },
  {
   "cell_type": "code",
   "execution_count": 9,
   "id": "79942576",
   "metadata": {},
   "outputs": [],
   "source": [
    "cm = metrics.confusion_matrix(y_test,y_cart)"
   ]
  },
  {
   "cell_type": "code",
   "execution_count": 10,
   "id": "45f86706",
   "metadata": {},
   "outputs": [
    {
     "data": {
      "text/plain": [
       "<AxesSubplot:>"
      ]
     },
     "execution_count": 10,
     "metadata": {},
     "output_type": "execute_result"
    },
    {
     "data": {
      "image/png": "[encoded data removed]",
      "text/plain": [
       "<Figure size 432x288 with 2 Axes>"
      ]
     },
     "metadata": {
      "needs_background": "light"
     },
     "output_type": "display_data"
    }
   ],
   "source": [
    "import seaborn as sns\n",
    "sns.heatmap(cm,annot=True)"
   ]
  },
  {
   "cell_type": "code",
   "execution_count": 12,
   "id": "9b9ab345",
   "metadata": {},
   "outputs": [
    {
     "name": "stdout",
     "output_type": "stream",
     "text": [
      "0.9666666666666667\n",
      "0.9666666666666667\n",
      "0.9666666666666667\n",
      "0.9666666666666667\n",
      "0.950050836422698\n"
     ]
    },
    {
     "data": {
      "text/plain": [
       "<AxesSubplot:>"
      ]
     },
     "execution_count": 12,
     "metadata": {},
     "output_type": "execute_result"
    },
    {
     "data": {
      "image/png": "[encoded data removed]",
      "text/plain": [
       "<Figure size 432x288 with 2 Axes>"
      ]
     },
     "metadata": {
      "needs_background": "light"
     },
     "output_type": "display_data"
    }
   ],
   "source": [
    "print(metrics.accuracy_score(y_test,y_id3))\n",
    "\n",
    "print(metrics.precision_score(y_test,y_id3,average='micro'))\n",
    "\n",
    "print(metrics.recall_score(y_test,y_id3,average='micro'))\n",
    "print(metrics.f1_score(y_test,y_id3,average='micro'))\n",
    "print(metrics.matthews_corrcoef(y_test,y_id3))\n",
    "cm = metrics.confusion_matrix(y_test,y_id3)\n",
    "sns.heatmap(cm,annot=True)"
   ]
  },
  {
   "cell_type": "code",
   "execution_count": null,
   "id": "8bc47d3e",
   "metadata": {},
   "outputs": [],
   "source": []
  }
 ],
 "metadata": {
  "kernelspec": {
   "display_name": "Python 3 (ipykernel)",
   "language": "python",
   "name": "python3"
  },
  "language_info": {
   "codemirror_mode": {
    "name": "ipython",
    "version": 3
   },
   "file_extension": ".py",
   "mimetype": "text/x-python",
   "name": "python",
   "nbconvert_exporter": "python",
   "pygments_lexer": "ipython3",
   "version": "3.9.12"
  }
 },
 "nbformat": 4,
 "nbformat_minor": 5
}
